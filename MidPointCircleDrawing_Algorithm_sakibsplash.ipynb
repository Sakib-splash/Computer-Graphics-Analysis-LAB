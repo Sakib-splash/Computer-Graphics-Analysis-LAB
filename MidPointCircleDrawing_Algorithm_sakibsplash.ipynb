{
 "cells": [
  {
   "cell_type": "code",
   "execution_count": 10,
   "id": "13b4c61d-e80d-4374-afc4-3b8387a86d0d",
   "metadata": {},
   "outputs": [
    {
     "name": "stdout",
     "output_type": "stream",
     "text": [
      "(3, 0)(3, 0)(0, 3)(0, 3)\n",
      "(3, 1)(-3, 1)(3, -1)(-3, -1)\n",
      "(1, 3)(-1, 3)(1, -3)(-1, -3)\n",
      "(2, 2)(-2, 2)(2, -2)(-2, -2)\n"
     ]
    },
    {
     "data": {
      "image/png": "[encoded data removed]",
      "text/plain": [
       "<Figure size 640x480 with 1 Axes>"
      ]
     },
     "metadata": {},
     "output_type": "display_data"
    }
   ],
   "source": [
    "import matplotlib.pyplot as plt\n",
    "#code_by_sakib11\n",
    "def plot_circle_points(x_centre, y_centre, x, y):\n",
    "    \n",
    "    plt.plot(x + x_centre, y + y_centre, 'ro') \n",
    "    plt.plot(-x + x_centre, y + y_centre, 'ro')  \n",
    "    plt.plot(x + x_centre, -y + y_centre, 'ro') \n",
    "    plt.plot(-x + x_centre, -y + y_centre, 'ro')  \n",
    "    plt.plot(y + x_centre, x + y_centre, 'ro')  \n",
    "    plt.plot(-y + x_centre, x + y_centre, 'ro')  \n",
    "    plt.plot(y + x_centre, -x + y_centre, 'ro')  \n",
    "    plt.plot(-y + x_centre, -x + y_centre, 'ro')  \n",
    "\n",
    "def midPointCircleDraw(x_centre, y_centre, r):\n",
    "    x = r\n",
    "    y = 0\n",
    "    print(\"(\", x + x_centre, \", \", \n",
    "               y + y_centre, \")\", \n",
    "               sep = \"\", end = \"\") \n",
    "    \n",
    "    plot_circle_points(x_centre, y_centre, x, y)\n",
    "\n",
    "    if (r > 0) :\n",
    "     \n",
    "        print(\"(\", x + x_centre, \", \",\n",
    "                  -y + y_centre, \")\", \n",
    "                  sep = \"\", end = \"\") \n",
    "        print(\"(\", y + x_centre, \", \", \n",
    "                   x + y_centre, \")\",\n",
    "                   sep = \"\", end = \"\") \n",
    "        print(\"(\", -y + x_centre, \", \", \n",
    "                    x + y_centre, \")\", sep = \"\") \n",
    "\n",
    "    P = 1 - r\n",
    "    while x > y:\n",
    "        y += 1\n",
    "        if P <= 0:\n",
    "            P = P + 2 * y + 1\n",
    "        else:\n",
    "            x -= 1\n",
    "            P = P + 2 * y - 2 * x + 1\n",
    "        if (x < y):\n",
    "            break\n",
    "            \n",
    "        print(\"(\", x + x_centre, \", \", y + y_centre,\n",
    "                            \")\", sep = \"\", end = \"\") \n",
    "        print(\"(\", -x + x_centre, \", \", y + y_centre, \n",
    "                             \")\", sep = \"\", end = \"\") \n",
    "        print(\"(\", x + x_centre, \", \", -y + y_centre,\n",
    "                             \")\", sep = \"\", end = \"\") \n",
    "        print(\"(\", -x + x_centre, \", \", -y + y_centre,\n",
    "                                        \")\", sep = \"\") \n",
    "        plot_circle_points(x_centre, y_centre, x, y)\n",
    "        \n",
    "        if x != y:\n",
    "         \n",
    "            print(\"(\", y + x_centre, \", \", x + y_centre, \n",
    "                                \")\", sep = \"\", end = \"\") \n",
    "            print(\"(\", -y + x_centre, \", \", x + y_centre,\n",
    "                                 \")\", sep = \"\", end = \"\") \n",
    "            print(\"(\", y + x_centre, \", \", -x + y_centre,\n",
    "                                 \")\", sep = \"\", end = \"\") \n",
    "            print(\"(\", -y + x_centre, \", \", -x + y_centre, \n",
    "                                            \")\", sep = \"\")\n",
    "\n",
    "    plt.axis('equal')\n",
    "    plt.grid()\n",
    "    plt.show()\n",
    "\n",
    "\n",
    "midPointCircleDraw(0, 0, 3)\n"
   ]
  }
 ],
 "metadata": {
  "kernelspec": {
   "display_name": "Python 3 (ipykernel)",
   "language": "python",
   "name": "python3"
  },
  "language_info": {
   "codemirror_mode": {
    "name": "ipython",
    "version": 3
   },
   "file_extension": ".py",
   "mimetype": "text/x-python",
   "name": "python",
   "nbconvert_exporter": "python",
   "pygments_lexer": "ipython3",
   "version": "3.12.3"
  }
 },
 "nbformat": 4,
 "nbformat_minor": 5
}
